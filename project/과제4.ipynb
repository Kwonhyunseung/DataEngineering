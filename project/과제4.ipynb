{
 "cells": [
  {
   "cell_type": "code",
   "execution_count": 1,
   "id": "7edbf45f",
   "metadata": {},
   "outputs": [],
   "source": [
    "middle = ['쌍', '쇠', '복', '돌', '팽', '육', '쌍', '개', '칠', '갑', '삼', '방']\n",
    "last = ['봉', '구', '욕', '포', '똥', '삼', '식', '석',\n",
    "        '놈', '님', '년', '돌', '단', '득', '방', '질',\n",
    "        '장', '걸', '래', '룡', '동', '순', '자', '박',\n",
    "        '창', '언', '것', '포','만', '단', '국']"
   ]
  },
  {
   "cell_type": "code",
   "execution_count": 3,
   "id": "53cff0af",
   "metadata": {},
   "outputs": [
    {
     "name": "stdout",
     "output_type": "stream",
     "text": [
      "당신이 조선시대 이름은 안칠걸입니다.\n"
     ]
    }
   ],
   "source": [
    "def get_my_chosun_name(family_name, month, day):\n",
    "    name = family_name + middle[month - 1] + last[day - 1]\n",
    "    return name\n",
    "\n",
    "print(\"당신이 조선시대 이름은 \" + get_my_chosun_name('안', 9, 18) + \"입니다.\")"
   ]
  }
 ],
 "metadata": {
  "kernelspec": {
   "display_name": "Python 3 (ipykernel)",
   "language": "python",
   "name": "python3"
  },
  "language_info": {
   "codemirror_mode": {
    "name": "ipython",
    "version": 3
   },
   "file_extension": ".py",
   "mimetype": "text/x-python",
   "name": "python",
   "nbconvert_exporter": "python",
   "pygments_lexer": "ipython3",
   "version": "3.9.7"
  }
 },
 "nbformat": 4,
 "nbformat_minor": 5
}
