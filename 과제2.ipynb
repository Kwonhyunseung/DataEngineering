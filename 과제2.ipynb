{
 "cells": [
  {
   "cell_type": "code",
   "execution_count": 1,
   "id": "cf5865c1",
   "metadata": {},
   "outputs": [],
   "source": [
    "# 일부 목록 만들기\n",
    "subjects = [\"physics\", \"calculus\", \"poetry\", \"history\"]\n",
    "grades = [98, 97, 85, 88]"
   ]
  },
  {
   "cell_type": "code",
   "execution_count": 2,
   "id": "04238095",
   "metadata": {},
   "outputs": [],
   "source": [
    "#이차원 목록 만들기\n",
    "gradebook = [\n",
    "    [\"physics\", 98],\n",
    "    [\"calculus\", 97],\n",
    "    [\"poetry\", 85],\n",
    "    [\"history\", 88]\n",
    "]"
   ]
  },
  {
   "cell_type": "code",
   "execution_count": 3,
   "id": "233c0dab",
   "metadata": {},
   "outputs": [
    {
     "name": "stdout",
     "output_type": "stream",
     "text": [
      "[['physics', 98], ['calculus', 97], ['poetry', 85], ['history', 88]]\n"
     ]
    }
   ],
   "source": [
    "#출력\n",
    "print(gradebook)"
   ]
  },
  {
   "cell_type": "code",
   "execution_count": 4,
   "id": "20f10921",
   "metadata": {},
   "outputs": [
    {
     "name": "stdout",
     "output_type": "stream",
     "text": [
      "[['physics', 98], ['calculus', 97], ['poetry', 85], ['history', 88], ['computer science', 100], ['visual arts', 93]]\n"
     ]
    }
   ],
   "source": [
    "#컴퓨터 공학 수업 성적\n",
    "gradebook.append([\"computer science\", 100])\n",
    "\n",
    "#visual arts 성적\n",
    "gradebook.append([\"visual arts\", 93])\n",
    "\n",
    "#출력\n",
    "print(gradebook)"
   ]
  },
  {
   "cell_type": "code",
   "execution_count": 6,
   "id": "274a463b",
   "metadata": {},
   "outputs": [
    {
     "name": "stdout",
     "output_type": "stream",
     "text": [
      "[['physics', 98], ['calculus', 97], ['history', 88], ['computer science', 100], ['visual arts', 103], ['poetry', 'Pass']]\n"
     ]
    }
   ],
   "source": [
    "#시각 예술 수업 성적 수정\n",
    "for subject, grade in gradebook:\n",
    "    if subject == \"visual arts\":\n",
    "        grade += 5\n",
    "        \n",
    "        for item in gradebook:\n",
    "            if item[0] == \"visual arts\":\n",
    "                item[1] = grade\n",
    "\n",
    "#시 수업 등급을 합격/불합격으로 변경\n",
    "for subject, grade in gradebook:\n",
    "    if subject == \"poetry\":\n",
    "        \n",
    "        gradebook.remove([subject, grade])\n",
    "        \n",
    "        gradebook.append([subject, \"Pass\"])\n",
    "        \n",
    "#출력\n",
    "print(gradebook)"
   ]
  },
  {
   "cell_type": "code",
   "execution_count": 7,
   "id": "ad57f4a6",
   "metadata": {},
   "outputs": [
    {
     "name": "stdout",
     "output_type": "stream",
     "text": [
      "[['physics', 98], ['calculus', 97], ['history', 88], ['computer science', 100], ['visual arts', 103], ['poetry', 'Pass'], ['politics', 80], ['latin', 96], ['dance', 97], ['architecture', 65]]\n"
     ]
    }
   ],
   "source": [
    "#성적 기록부\n",
    "last_semester_gradebook = [[\"politics\", 80], [\"latin\", 96], [\"dance\", 97], [\"architecture\", 65]]\n",
    "\n",
    "full_gradebook = gradebook + last_semester_gradebook\n",
    "\n",
    "print(full_gradebook)"
   ]
  }
 ],
 "metadata": {
  "kernelspec": {
   "display_name": "Python 3 (ipykernel)",
   "language": "python",
   "name": "python3"
  },
  "language_info": {
   "codemirror_mode": {
    "name": "ipython",
    "version": 3
   },
   "file_extension": ".py",
   "mimetype": "text/x-python",
   "name": "python",
   "nbconvert_exporter": "python",
   "pygments_lexer": "ipython3",
   "version": "3.9.7"
  }
 },
 "nbformat": 4,
 "nbformat_minor": 5
}
